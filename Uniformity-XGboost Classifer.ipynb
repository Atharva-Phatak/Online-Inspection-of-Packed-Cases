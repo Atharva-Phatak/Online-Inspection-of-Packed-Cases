{
 "cells": [
  {
   "cell_type": "code",
   "execution_count": 1,
   "metadata": {},
   "outputs": [],
   "source": [
    "import xgboost as xgb\n",
    "from sklearn.metrics import accuracy_score\n",
    "from sklearn.preprocessing import LabelEncoder\n",
    "import pandas as pd\n",
    "import numpy as np\n",
    "from sklearn.model_selection import train_test_split\n",
    "\n",
    "import matplotlib.pyplot as plt\n",
    "%matplotlib inline"
   ]
  },
  {
   "cell_type": "code",
   "execution_count": 2,
   "metadata": {},
   "outputs": [
    {
     "data": {
      "text/html": [
       "<div>\n",
       "<style scoped>\n",
       "    .dataframe tbody tr th:only-of-type {\n",
       "        vertical-align: middle;\n",
       "    }\n",
       "\n",
       "    .dataframe tbody tr th {\n",
       "        vertical-align: top;\n",
       "    }\n",
       "\n",
       "    .dataframe thead th {\n",
       "        text-align: right;\n",
       "    }\n",
       "</style>\n",
       "<table border=\"1\" class=\"dataframe\">\n",
       "  <thead>\n",
       "    <tr style=\"text-align: right;\">\n",
       "      <th></th>\n",
       "      <th>Unnamed: 0</th>\n",
       "      <th>mean_H</th>\n",
       "      <th>mean_S</th>\n",
       "      <th>mean_V</th>\n",
       "      <th>stddev_H</th>\n",
       "      <th>stddev_S</th>\n",
       "      <th>stddev_V</th>\n",
       "      <th>entropy_H</th>\n",
       "      <th>entropy_S</th>\n",
       "      <th>entropy_V</th>\n",
       "      <th>Skew_H</th>\n",
       "      <th>Skew_S</th>\n",
       "      <th>Skew_V</th>\n",
       "      <th>Kurtosis_H</th>\n",
       "      <th>Kurtosis_S</th>\n",
       "      <th>Kurtosis_V</th>\n",
       "      <th>label</th>\n",
       "      <th>Color Code</th>\n",
       "      <th>Ripeness Code</th>\n",
       "      <th>Uniformity Code</th>\n",
       "    </tr>\n",
       "  </thead>\n",
       "  <tbody>\n",
       "    <tr>\n",
       "      <th>0</th>\n",
       "      <td>IMG_20170609_121501.jpg</td>\n",
       "      <td>103.625344</td>\n",
       "      <td>150.115251</td>\n",
       "      <td>185.511408</td>\n",
       "      <td>2.719907</td>\n",
       "      <td>31.792205</td>\n",
       "      <td>36.967909</td>\n",
       "      <td>2.425289</td>\n",
       "      <td>4.874979</td>\n",
       "      <td>4.936882</td>\n",
       "      <td>-10.757538</td>\n",
       "      <td>0.999510</td>\n",
       "      <td>-1.349998</td>\n",
       "      <td>490.188907</td>\n",
       "      <td>1.812756</td>\n",
       "      <td>3.140637</td>\n",
       "      <td>NaN</td>\n",
       "      <td>3</td>\n",
       "      <td>R</td>\n",
       "      <td>W</td>\n",
       "    </tr>\n",
       "    <tr>\n",
       "      <th>1</th>\n",
       "      <td>IMG_20170609_121539.jpg</td>\n",
       "      <td>103.761329</td>\n",
       "      <td>150.645503</td>\n",
       "      <td>178.679519</td>\n",
       "      <td>3.103255</td>\n",
       "      <td>30.959667</td>\n",
       "      <td>37.815029</td>\n",
       "      <td>2.555942</td>\n",
       "      <td>4.849467</td>\n",
       "      <td>4.979512</td>\n",
       "      <td>-12.659618</td>\n",
       "      <td>0.943212</td>\n",
       "      <td>-1.279067</td>\n",
       "      <td>525.264241</td>\n",
       "      <td>1.810682</td>\n",
       "      <td>2.883282</td>\n",
       "      <td>NaN</td>\n",
       "      <td>3</td>\n",
       "      <td>R</td>\n",
       "      <td>W</td>\n",
       "    </tr>\n",
       "    <tr>\n",
       "      <th>2</th>\n",
       "      <td>IMG_20170609_121556.jpg</td>\n",
       "      <td>103.355815</td>\n",
       "      <td>148.943916</td>\n",
       "      <td>186.734285</td>\n",
       "      <td>2.117603</td>\n",
       "      <td>29.802781</td>\n",
       "      <td>33.560293</td>\n",
       "      <td>2.178525</td>\n",
       "      <td>4.812019</td>\n",
       "      <td>4.862720</td>\n",
       "      <td>-3.603895</td>\n",
       "      <td>0.981365</td>\n",
       "      <td>-1.246027</td>\n",
       "      <td>311.185592</td>\n",
       "      <td>1.952969</td>\n",
       "      <td>3.156205</td>\n",
       "      <td>NaN</td>\n",
       "      <td>3</td>\n",
       "      <td>R</td>\n",
       "      <td>W</td>\n",
       "    </tr>\n",
       "    <tr>\n",
       "      <th>3</th>\n",
       "      <td>IMG_20170609_121604.jpg</td>\n",
       "      <td>103.389273</td>\n",
       "      <td>149.850456</td>\n",
       "      <td>183.145827</td>\n",
       "      <td>3.249377</td>\n",
       "      <td>31.697308</td>\n",
       "      <td>36.858431</td>\n",
       "      <td>2.601241</td>\n",
       "      <td>4.871880</td>\n",
       "      <td>4.944156</td>\n",
       "      <td>-16.587754</td>\n",
       "      <td>0.856413</td>\n",
       "      <td>-1.294449</td>\n",
       "      <td>561.072469</td>\n",
       "      <td>1.733411</td>\n",
       "      <td>3.104665</td>\n",
       "      <td>NaN</td>\n",
       "      <td>3</td>\n",
       "      <td>R</td>\n",
       "      <td>W</td>\n",
       "    </tr>\n",
       "    <tr>\n",
       "      <th>4</th>\n",
       "      <td>IMG_20170609_121626.jpg</td>\n",
       "      <td>103.641312</td>\n",
       "      <td>145.893100</td>\n",
       "      <td>186.715184</td>\n",
       "      <td>2.081984</td>\n",
       "      <td>30.483949</td>\n",
       "      <td>35.004858</td>\n",
       "      <td>2.161499</td>\n",
       "      <td>4.835071</td>\n",
       "      <td>4.893274</td>\n",
       "      <td>-1.779351</td>\n",
       "      <td>1.032159</td>\n",
       "      <td>-1.119625</td>\n",
       "      <td>254.469867</td>\n",
       "      <td>1.896333</td>\n",
       "      <td>2.426695</td>\n",
       "      <td>NaN</td>\n",
       "      <td>3</td>\n",
       "      <td>R</td>\n",
       "      <td>W</td>\n",
       "    </tr>\n",
       "  </tbody>\n",
       "</table>\n",
       "</div>"
      ],
      "text/plain": [
       "                Unnamed: 0      mean_H      mean_S      mean_V  stddev_H  \\\n",
       "0  IMG_20170609_121501.jpg  103.625344  150.115251  185.511408  2.719907   \n",
       "1  IMG_20170609_121539.jpg  103.761329  150.645503  178.679519  3.103255   \n",
       "2  IMG_20170609_121556.jpg  103.355815  148.943916  186.734285  2.117603   \n",
       "3  IMG_20170609_121604.jpg  103.389273  149.850456  183.145827  3.249377   \n",
       "4  IMG_20170609_121626.jpg  103.641312  145.893100  186.715184  2.081984   \n",
       "\n",
       "    stddev_S   stddev_V  entropy_H  entropy_S  entropy_V     Skew_H    Skew_S  \\\n",
       "0  31.792205  36.967909   2.425289   4.874979   4.936882 -10.757538  0.999510   \n",
       "1  30.959667  37.815029   2.555942   4.849467   4.979512 -12.659618  0.943212   \n",
       "2  29.802781  33.560293   2.178525   4.812019   4.862720  -3.603895  0.981365   \n",
       "3  31.697308  36.858431   2.601241   4.871880   4.944156 -16.587754  0.856413   \n",
       "4  30.483949  35.004858   2.161499   4.835071   4.893274  -1.779351  1.032159   \n",
       "\n",
       "     Skew_V  Kurtosis_H  Kurtosis_S  Kurtosis_V  label Color Code  \\\n",
       "0 -1.349998  490.188907    1.812756    3.140637    NaN          3   \n",
       "1 -1.279067  525.264241    1.810682    2.883282    NaN          3   \n",
       "2 -1.246027  311.185592    1.952969    3.156205    NaN          3   \n",
       "3 -1.294449  561.072469    1.733411    3.104665    NaN          3   \n",
       "4 -1.119625  254.469867    1.896333    2.426695    NaN          3   \n",
       "\n",
       "  Ripeness Code Uniformity Code  \n",
       "0             R               W  \n",
       "1             R               W  \n",
       "2             R               W  \n",
       "3             R               W  \n",
       "4             R               W  "
      ]
     },
     "execution_count": 2,
     "metadata": {},
     "output_type": "execute_result"
    }
   ],
   "source": [
    "dataset = pd.read_csv(\"Final.csv\")\n",
    "dataset.head()\n"
   ]
  },
  {
   "cell_type": "code",
   "execution_count": 3,
   "metadata": {},
   "outputs": [],
   "source": [
    "Y = dataset.iloc[: , 19]\n",
    "X = dataset.iloc[:, [4,6,10,12,13]]\n",
    "\n",
    "#x_train , y_train , x_test , y_test = train_test_split(X , Y , test_size = 0.33 ,random_state = 42 )"
   ]
  },
  {
   "cell_type": "code",
   "execution_count": 4,
   "metadata": {},
   "outputs": [],
   "source": [
    "label = LabelEncoder()\n",
    "enc_unif = label.fit_transform(Y)\n",
    "x_train , x_test , y_train , y_test = train_test_split(X , enc_unif , test_size = 0.33 ,random_state = 42 )\n"
   ]
  },
  {
   "cell_type": "code",
   "execution_count": 5,
   "metadata": {},
   "outputs": [
    {
     "data": {
      "text/plain": [
       "XGBClassifier(base_score=0.5, booster='gbtree', colsample_bylevel=1,\n",
       "       colsample_bytree=1, eta=0.1, gamma=0, learning_rate=0.1,\n",
       "       max_delta_step=0, max_depth=3, min_child_weight=1, missing=None,\n",
       "       n_estiamtors=200, n_estimators=100, n_jobs=1, nthread=None,\n",
       "       num_classes=3, objective='multi:softprob', random_state=42,\n",
       "       reg_alpha=0, reg_lambda=1, scale_pos_weight=1, seed=None,\n",
       "       silent=True, subsample=1)"
      ]
     },
     "execution_count": 5,
     "metadata": {},
     "output_type": "execute_result"
    }
   ],
   "source": [
    "unif_class = xgb.XGBClassifier(eta = 0.1 , random_state = 42 , n_estiamtors = 200 , \n",
    "                              objective = 'multi:softmax' , num_classes = 3 , booster = 'gbtree')\n",
    "unif_class.fit(x_train , y_train)"
   ]
  },
  {
   "cell_type": "code",
   "execution_count": 6,
   "metadata": {},
   "outputs": [
    {
     "data": {
      "text/plain": [
       "<matplotlib.axes._subplots.AxesSubplot at 0x241ca1a8cc0>"
      ]
     },
     "execution_count": 6,
     "metadata": {},
     "output_type": "execute_result"
    },
    {
     "data": {
      "image/png": "[encoded data removed]",
      "text/plain": [
       "<Figure size 432x288 with 1 Axes>"
      ]
     },
     "metadata": {},
     "output_type": "display_data"
    }
   ],
   "source": [
    "xgb.plot_importance(unif_class)"
   ]
  },
  {
   "cell_type": "code",
   "execution_count": 7,
   "metadata": {},
   "outputs": [
    {
     "name": "stderr",
     "output_type": "stream",
     "text": [
      "C:\\anaconda3\\lib\\site-packages\\sklearn\\preprocessing\\label.py:151: DeprecationWarning: The truth value of an empty array is ambiguous. Returning False, but in future this will result in an error. Use `array.size > 0` to check that an array is not empty.\n",
      "  if diff:\n"
     ]
    }
   ],
   "source": [
    "y_pred = unif_class.predict(x_test)\n"
   ]
  },
  {
   "cell_type": "code",
   "execution_count": 8,
   "metadata": {},
   "outputs": [
    {
     "name": "stdout",
     "output_type": "stream",
     "text": [
      "ACCURACY OF UNIFORMITY : 73.95348837209302\n"
     ]
    }
   ],
   "source": [
    "accuracy  = accuracy_score(y_test , y_pred) * 100\n",
    "print(\"ACCURACY OF UNIFORMITY : {}\".format(accuracy))"
   ]
  },
  {
   "cell_type": "code",
   "execution_count": 9,
   "metadata": {},
   "outputs": [
    {
     "name": "stdout",
     "output_type": "stream",
     "text": [
      "['M' 'K' 'K' 'M' 'W' 'W' 'K' 'K' 'K' 'K' 'K' 'M' 'M' 'K' 'K' 'W' 'W' 'M'\n",
      " 'W' 'M' 'M' 'K' 'M' 'M' 'M' 'M' 'K' 'W' 'M' 'K' 'K' 'M' 'K' 'K' 'M' 'K'\n",
      " 'K' 'W' 'K' 'K' 'K' 'W' 'M' 'M' 'M' 'W' 'M' 'M' 'K' 'M' 'M' 'K' 'M' 'M'\n",
      " 'K' 'K' 'K' 'K' 'W' 'K' 'K' 'K' 'M' 'M' 'M' 'W' 'M' 'M' 'K' 'K' 'W' 'M'\n",
      " 'K' 'M' 'K' 'K' 'K' 'K' 'W' 'M' 'M' 'M' 'M' 'M' 'M' 'K' 'W' 'K' 'K' 'M'\n",
      " 'K' 'K' 'W' 'M' 'W' 'W' 'M' 'K' 'M' 'K' 'K' 'K' 'W' 'K' 'K' 'K' 'W' 'M'\n",
      " 'M' 'K' 'M' 'M' 'K' 'M' 'M' 'K' 'K' 'M' 'M' 'K' 'K' 'M' 'M' 'K' 'M' 'K'\n",
      " 'M' 'M' 'K' 'M' 'K' 'K' 'K' 'K' 'K' 'K' 'M' 'M' 'K' 'M' 'K' 'K' 'K' 'M'\n",
      " 'M' 'M' 'M' 'M' 'W' 'M' 'K' 'K' 'K' 'K' 'K' 'K' 'M' 'M' 'K' 'M' 'K' 'K'\n",
      " 'K' 'K' 'M' 'W' 'K' 'M' 'M' 'K' 'K' 'W' 'M' 'K' 'M' 'M' 'W' 'K' 'M' 'M'\n",
      " 'K' 'W' 'M' 'M' 'W' 'K' 'K' 'M' 'M' 'W' 'M' 'M' 'K' 'K' 'K' 'K' 'M' 'K'\n",
      " 'M' 'K' 'K' 'M' 'M' 'K' 'M' 'M' 'K' 'K' 'K' 'M' 'K' 'M' 'K' 'W' 'K']\n"
     ]
    },
    {
     "name": "stderr",
     "output_type": "stream",
     "text": [
      "C:\\anaconda3\\lib\\site-packages\\sklearn\\preprocessing\\label.py:151: DeprecationWarning: The truth value of an empty array is ambiguous. Returning False, but in future this will result in an error. Use `array.size > 0` to check that an array is not empty.\n",
      "  if diff:\n"
     ]
    }
   ],
   "source": [
    "print(label.inverse_transform(y_pred))"
   ]
  },
  {
   "cell_type": "code",
   "execution_count": null,
   "metadata": {},
   "outputs": [],
   "source": []
  }
 ],
 "metadata": {
  "kernelspec": {
   "display_name": "Python 3",
   "language": "python",
   "name": "python3"
  },
  "language_info": {
   "codemirror_mode": {
    "name": "ipython",
    "version": 3
   },
   "file_extension": ".py",
   "mimetype": "text/x-python",
   "name": "python",
   "nbconvert_exporter": "python",
   "pygments_lexer": "ipython3",
   "version": "3.6.6"
  }
 },
 "nbformat": 4,
 "nbformat_minor": 2
}
